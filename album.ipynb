{
 "cells": [
  {
   "cell_type": "code",
   "execution_count": 2,
   "id": "8c917be6",
   "metadata": {},
   "outputs": [],
   "source": [
    "import pandas as pd\n",
    "import numpy as np\n",
    "import missingno as msno"
   ]
  },
  {
   "cell_type": "code",
   "execution_count": 3,
   "id": "937def97",
   "metadata": {},
   "outputs": [],
   "source": [
    "data = pd.read_html(\"https://www.officialcharts.com/chart-news/the-best-selling-albums-of-all-time-on-the-official-uk-chart__15551/\",header=0)"
   ]
  },
  {
   "cell_type": "code",
   "execution_count": 4,
   "id": "c3522b29",
   "metadata": {},
   "outputs": [],
   "source": [
    "data[0].columns = [\"POZ\", \"TYTUŁ\", \"ARTYSTA\", \"ROK\", \"MAX POZ\"]"
   ]
  },
  {
   "cell_type": "code",
   "execution_count": 5,
   "id": "e413f50f",
   "metadata": {},
   "outputs": [],
   "source": [
    "data[0].to_csv(\"Full_note.csv\", index=True) #tylko tak testowo jak wygląda"
   ]
  },
  {
   "cell_type": "code",
   "execution_count": 6,
   "id": "05734b60",
   "metadata": {},
   "outputs": [
    {
     "data": {
      "text/plain": [
       "'Na liście znajduje się 47 pojedyńczych artystów'"
      ]
     },
     "execution_count": 6,
     "metadata": {},
     "output_type": "execute_result"
    }
   ],
   "source": [
    "n = data[0][\"ARTYSTA\"].nunique()\n",
    "f'Na liście znajduje się {n} pojedyńczych artystów'"
   ]
  },
  {
   "cell_type": "code",
   "execution_count": 12,
   "id": "02dbd009",
   "metadata": {},
   "outputs": [
    {
     "data": {
      "text/plain": [
       "('Najczęściej na liści pojawiają się:',\n",
       "            count\n",
       " ARTYSTA         \n",
       " COLDPLAY       3\n",
       " TAKE THAT      3)"
      ]
     },
     "execution_count": 12,
     "metadata": {},
     "output_type": "execute_result"
    }
   ],
   "source": [
    "most_freq_art = pd.DataFrame(data[0].value_counts(\"ARTYSTA\", normalize=False))\n",
    "m = most_freq_art.max().iloc[0]\n",
    "top_art = most_freq_art.loc[most_freq_art[\"count\"] == m]\n",
    "'Najczęściej na liście pojawiają się:', top_art"
   ]
  },
  {
   "cell_type": "code",
   "execution_count": 8,
   "id": "4285d604",
   "metadata": {},
   "outputs": [
    {
     "data": {
      "text/plain": [
       "('Najwięcej albumów na liście jest z:',\n",
       "       count\n",
       " Rok        \n",
       " 1987    4.0\n",
       " 2000    4.0)"
      ]
     },
     "execution_count": 8,
     "metadata": {},
     "output_type": "execute_result"
    }
   ],
   "source": [
    "df = data[0].rename(str.title, axis=1).drop([\"Max Poz\"], axis=1)\n",
    "year_prod = df.groupby(df[\"Rok\"]).Tytuł.agg([\"count\"])\n",
    "'Najwięcej albumów na liście jest z:',year_prod[year_prod == year_prod.max()].dropna()"
   ]
  },
  {
   "cell_type": "code",
   "execution_count": 9,
   "id": "504cc065",
   "metadata": {},
   "outputs": [],
   "source": [
    "df.sort_values(by=\"Rok\").drop_duplicates(subset=[\"Artysta\"]).drop([\"Poz\"], axis=1).to_csv(\"Albums_note.csv\", index=False)"
   ]
  },
  {
   "cell_type": "code",
   "execution_count": 10,
   "id": "dfef3d08",
   "metadata": {},
   "outputs": [
    {
     "data": {
      "text/plain": [
       "('Najpóźniej wydany album na liście jest z roku:', 2015)"
      ]
     },
     "execution_count": 10,
     "metadata": {},
     "output_type": "execute_result"
    }
   ],
   "source": [
    "youngest_album_year = df[\"Rok\"].max()\n",
    "\"Najpóźniej wydany album na liście jest z roku:\", youngest_album_year"
   ]
  },
  {
   "cell_type": "code",
   "execution_count": 11,
   "id": "ced68999",
   "metadata": {},
   "outputs": [
    {
     "data": {
      "text/plain": [
       "'Na liście znajdują się: 22 albumy wydane w latach 1960-1990'"
      ]
     },
     "execution_count": 11,
     "metadata": {},
     "output_type": "execute_result"
    }
   ],
   "source": [
    "data_1960_1990 = df[(df.Rok >= 1960) & (df.Rok <= 1990)][\"Poz\"].nunique()\n",
    "f\"Na liście znajdują się: {data_1960_1990} albumy wydane w latach 1960-1990\""
   ]
  },
  {
   "cell_type": "code",
   "execution_count": null,
   "id": "c3fdcaae",
   "metadata": {},
   "outputs": [],
   "source": []
  }
 ],
 "metadata": {
  "kernelspec": {
   "display_name": "Python 3 (ipykernel)",
   "language": "python",
   "name": "python3"
  },
  "language_info": {
   "codemirror_mode": {
    "name": "ipython",
    "version": 3
   },
   "file_extension": ".py",
   "mimetype": "text/x-python",
   "name": "python",
   "nbconvert_exporter": "python",
   "pygments_lexer": "ipython3",
   "version": "3.11.1"
  }
 },
 "nbformat": 4,
 "nbformat_minor": 5
}
